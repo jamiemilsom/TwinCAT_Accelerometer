{
 "cells": [
  {
   "attachments": {},
   "cell_type": "markdown",
   "metadata": {},
   "source": [
    "Import All Neccessary Libraries"
   ]
  },
  {
   "cell_type": "code",
   "execution_count": 243,
   "metadata": {},
   "outputs": [],
   "source": [
    "import os\n",
    "import pandas as pd\n",
    "import matplotlib.pyplot as plt\n",
    "import seaborn as sns\n",
    "import numpy as np"
   ]
  },
  {
   "attachments": {},
   "cell_type": "markdown",
   "metadata": {},
   "source": [
    "Creating TwinCAT_Recording and Accelerometer_Recording Classes"
   ]
  },
  {
   "cell_type": "code",
   "execution_count": 246,
   "metadata": {},
   "outputs": [],
   "source": [
    "class TwinCAT_Recording:\n",
    "    def __init__(self,path):\n",
    "        self.path = path\n",
    "        \n",
    "        self.filename = os.path.basename(path)[:-4]\n",
    "        parts = self.filename.split(\"_\")\n",
    "        positions = parts[0].split(\"-\")\n",
    "\n",
    "        self.slide_position_one = positions[0]\n",
    "        self.slide_position_two = positions[1]\n",
    "        self.velocity = parts[1]\n",
    "        self.slide_range = str(self.slide_position_one) + \"-\" + str(self.slide_position_two) + \"mm\"\n",
    "        self.slide_start_position = float(self.slide_position_one) + 2.5\n",
    "\n",
    "        self.data = pd.read_csv(self.path,sep='\\t',skip_blank_lines=True,skiprows=4)\n",
    "        self.data.rename(columns={\n",
    "        'Name': 'Time (ms)'},inplace=True)\n",
    "\n",
    "        idx = ((self.data['ActPos'].shift(1) < self.slide_start_position) & (self.data['ActPos'] >= self.slide_start_position) & (self.data['ActPos'].shift(-1) >= self.slide_start_position)).idxmax()\n",
    "        self.data.drop(self.data.index[:idx],inplace=True)\n",
    "        self.data['Time (ms)'] = self.data['Time (ms)'] - self.data['Time (ms)'].iloc[0]\n",
    "\n",
    "        self.data['Velocity m/s'] = self.data['ActVelo'] / 1000\n",
    "        self.data['Time (s)'] = self.data['Time (ms)'] / 1000\n",
    "        self.data['Convolved Velocity m/s'] = np.convolve(self.data['Time (ms)'].values, self.data['ActVelo'].values)\n",
    "        self.data['Acceleration m/s^2'] = np.gradient(self.data['Convolved Velocity m/s'],0.25e-3)\n",
    "        \n",
    "\n",
    "\n",
    "\n",
    "\n",
    "\n",
    "    \n",
    "    def __repr__(self):\n",
    "        return \"This TwinCAT recording is at {velocity}mm/s from {position_one}mm to {position_two}mm along the slide. For Debugging {slide_start_position}\".format(\n",
    "            velocity=self.velocity,\n",
    "            position_one=self.slide_position_one,\n",
    "            position_two=self.slide_position_two,\n",
    "            slide_start_position = self.slide_start_position,\n",
    "            )\n",
    "\n",
    "\n",
    "class Accelerometer_Recording:\n",
    "        def __init__(self,path):\n",
    "            self.path = path\n",
    "            \n",
    "            self.filename = os.path.basename(path)[:-8]\n",
    "            parts = self.filename.split(\"_\")\n",
    "            positions = parts[0].split(\"-\")\n",
    "\n",
    "            self.slide_position_one = positions[0]\n",
    "            self.slide_position_two = positions[1]\n",
    "            self.velocity = parts[1]\n",
    "            self.slide_range = str(self.slide_position_one) + \"-\" + str(self.slide_position_two) + \"mm\"\n",
    "\n",
    "            with open(path,'r') as file:\n",
    "                 first_line = file.readline().rstrip()\n",
    "\n",
    "            if not first_line.endswith(','):\n",
    "                 first_line += ','\n",
    "            \n",
    "            with open(path, 'r+') as file:\n",
    "                 content = file.readlines()\n",
    "                 content[0] = first_line + '\\n'\n",
    "                 file.seek(0)\n",
    "                 file.writelines(content)\n",
    "\n",
    "            self.data = pd.read_csv(path)\n",
    "            self.data.rename(columns={self.data.columns[0]: 'Time h/m/s/ms', self.data.columns[1]: 'Device Name'}, inplace=True)\n",
    "            self.data['Time h/m/s/ms'] = pd.to_datetime(self.data['Time h/m/s/ms'].str.strip(), format='%H:%M:%S.%f')\n",
    "            self.data['Elapsed Time (s)'] = (self.data['Time h/m/s/ms'] - self.data.loc[0, 'Time h/m/s/ms']).dt.total_seconds()\n",
    "\n",
    "            Acceleration_trigger = 0.5\n",
    "            idx = ((self.data['Acceleration X(g)'].shift(1) < Acceleration_trigger) & (self.data['Acceleration X(g)'] >= Acceleration_trigger) & (self.data['Acceleration X(g)'].shift(-1) >= Acceleration_trigger)).idxmax()\n",
    "            self.data.drop(self.data.index[:idx],inplace=True)\n",
    "            self.data['Elapsed Time (s)'] = self.data['Elapsed Time (s)'] - self.data['Elapsed Time (s)'].iloc[0]\n",
    "            self.data['Elapsed Time (ms)'] = self.data['Elapsed Time (s)'] * 1000\n",
    "\n",
    "\n",
    "        def __repr__(self):\n",
    "                return \"This Accelerometer recording is at {velocity}mm/s from {position_one}mm to {position_two}mm along the slide.\".format(\n",
    "                    velocity=self.velocity,\n",
    "                    position_one=self.slide_position_one,\n",
    "                    position_two=self.slide_position_two\n",
    "                    )\n"
   ]
  },
  {
   "attachments": {},
   "cell_type": "markdown",
   "metadata": {},
   "source": [
    "Creating an Object to Store all the TwinCAT Data from a specified folder"
   ]
  },
  {
   "cell_type": "code",
   "execution_count": 248,
   "metadata": {},
   "outputs": [
    {
     "ename": "ValueError",
     "evalue": "Length of values (102637) does not match length of index (51319)",
     "output_type": "error",
     "traceback": [
      "\u001b[1;31m---------------------------------------------------------------------------\u001b[0m",
      "\u001b[1;31mValueError\u001b[0m                                Traceback (most recent call last)",
      "\u001b[1;32m~\\AppData\\Local\\Temp\\ipykernel_27280\\4294184167.py\u001b[0m in \u001b[0;36m<module>\u001b[1;34m\u001b[0m\n\u001b[0;32m      9\u001b[0m \u001b[1;33m\u001b[0m\u001b[0m\n\u001b[0;32m     10\u001b[0m         \u001b[0mfilepath\u001b[0m \u001b[1;33m=\u001b[0m \u001b[0mos\u001b[0m\u001b[1;33m.\u001b[0m\u001b[0mpath\u001b[0m\u001b[1;33m.\u001b[0m\u001b[0mjoin\u001b[0m\u001b[1;33m(\u001b[0m\u001b[0mfolder\u001b[0m\u001b[1;33m,\u001b[0m \u001b[0mfilename\u001b[0m\u001b[1;33m)\u001b[0m\u001b[1;33m\u001b[0m\u001b[1;33m\u001b[0m\u001b[0m\n\u001b[1;32m---> 11\u001b[1;33m         \u001b[0mTwinCAT_Data\u001b[0m \u001b[1;33m=\u001b[0m \u001b[0mTwinCAT_Recording\u001b[0m\u001b[1;33m(\u001b[0m\u001b[0mfilepath\u001b[0m\u001b[1;33m)\u001b[0m\u001b[1;33m\u001b[0m\u001b[1;33m\u001b[0m\u001b[0m\n\u001b[0m\u001b[0;32m     12\u001b[0m         \u001b[0mTwinCAT_recordings\u001b[0m\u001b[1;33m.\u001b[0m\u001b[0mappend\u001b[0m\u001b[1;33m(\u001b[0m\u001b[0mTwinCAT_Data\u001b[0m\u001b[1;33m)\u001b[0m\u001b[1;33m\u001b[0m\u001b[1;33m\u001b[0m\u001b[0m\n\u001b[0;32m     13\u001b[0m \u001b[1;33m\u001b[0m\u001b[0m\n",
      "\u001b[1;32m~\\AppData\\Local\\Temp\\ipykernel_27280\\1811377379.py\u001b[0m in \u001b[0;36m__init__\u001b[1;34m(self, path)\u001b[0m\n\u001b[0;32m     25\u001b[0m         \u001b[0mself\u001b[0m\u001b[1;33m.\u001b[0m\u001b[0mdata\u001b[0m\u001b[1;33m[\u001b[0m\u001b[1;34m'Velocity m/s'\u001b[0m\u001b[1;33m]\u001b[0m \u001b[1;33m=\u001b[0m \u001b[0mself\u001b[0m\u001b[1;33m.\u001b[0m\u001b[0mdata\u001b[0m\u001b[1;33m[\u001b[0m\u001b[1;34m'ActVelo'\u001b[0m\u001b[1;33m]\u001b[0m \u001b[1;33m/\u001b[0m \u001b[1;36m1000\u001b[0m\u001b[1;33m\u001b[0m\u001b[1;33m\u001b[0m\u001b[0m\n\u001b[0;32m     26\u001b[0m         \u001b[0mself\u001b[0m\u001b[1;33m.\u001b[0m\u001b[0mdata\u001b[0m\u001b[1;33m[\u001b[0m\u001b[1;34m'Time (s)'\u001b[0m\u001b[1;33m]\u001b[0m \u001b[1;33m=\u001b[0m \u001b[0mself\u001b[0m\u001b[1;33m.\u001b[0m\u001b[0mdata\u001b[0m\u001b[1;33m[\u001b[0m\u001b[1;34m'Time (ms)'\u001b[0m\u001b[1;33m]\u001b[0m \u001b[1;33m/\u001b[0m \u001b[1;36m1000\u001b[0m\u001b[1;33m\u001b[0m\u001b[1;33m\u001b[0m\u001b[0m\n\u001b[1;32m---> 27\u001b[1;33m         \u001b[0mself\u001b[0m\u001b[1;33m.\u001b[0m\u001b[0mdata\u001b[0m\u001b[1;33m[\u001b[0m\u001b[1;34m'Convolved Velocity m/s'\u001b[0m\u001b[1;33m]\u001b[0m \u001b[1;33m=\u001b[0m \u001b[0mnp\u001b[0m\u001b[1;33m.\u001b[0m\u001b[0mconvolve\u001b[0m\u001b[1;33m(\u001b[0m\u001b[0mself\u001b[0m\u001b[1;33m.\u001b[0m\u001b[0mdata\u001b[0m\u001b[1;33m[\u001b[0m\u001b[1;34m'Time (ms)'\u001b[0m\u001b[1;33m]\u001b[0m\u001b[1;33m.\u001b[0m\u001b[0mvalues\u001b[0m\u001b[1;33m,\u001b[0m \u001b[0mself\u001b[0m\u001b[1;33m.\u001b[0m\u001b[0mdata\u001b[0m\u001b[1;33m[\u001b[0m\u001b[1;34m'ActVelo'\u001b[0m\u001b[1;33m]\u001b[0m\u001b[1;33m.\u001b[0m\u001b[0mvalues\u001b[0m\u001b[1;33m)\u001b[0m\u001b[1;33m\u001b[0m\u001b[1;33m\u001b[0m\u001b[0m\n\u001b[0m\u001b[0;32m     28\u001b[0m         \u001b[0mself\u001b[0m\u001b[1;33m.\u001b[0m\u001b[0mdata\u001b[0m\u001b[1;33m[\u001b[0m\u001b[1;34m'Acceleration m/s^2'\u001b[0m\u001b[1;33m]\u001b[0m \u001b[1;33m=\u001b[0m \u001b[0mnp\u001b[0m\u001b[1;33m.\u001b[0m\u001b[0mgradient\u001b[0m\u001b[1;33m(\u001b[0m\u001b[0mself\u001b[0m\u001b[1;33m.\u001b[0m\u001b[0mdata\u001b[0m\u001b[1;33m[\u001b[0m\u001b[1;34m'Convolved Velocity m/s'\u001b[0m\u001b[1;33m]\u001b[0m\u001b[1;33m,\u001b[0m\u001b[1;36m0.25e-3\u001b[0m\u001b[1;33m)\u001b[0m\u001b[1;33m\u001b[0m\u001b[1;33m\u001b[0m\u001b[0m\n\u001b[0;32m     29\u001b[0m \u001b[1;33m\u001b[0m\u001b[0m\n",
      "\u001b[1;32mc:\\Users\\JZM001\\Anaconda3\\lib\\site-packages\\pandas\\core\\frame.py\u001b[0m in \u001b[0;36m__setitem__\u001b[1;34m(self, key, value)\u001b[0m\n\u001b[0;32m   3653\u001b[0m         \u001b[1;32melse\u001b[0m\u001b[1;33m:\u001b[0m\u001b[1;33m\u001b[0m\u001b[1;33m\u001b[0m\u001b[0m\n\u001b[0;32m   3654\u001b[0m             \u001b[1;31m# set column\u001b[0m\u001b[1;33m\u001b[0m\u001b[1;33m\u001b[0m\u001b[0m\n\u001b[1;32m-> 3655\u001b[1;33m             \u001b[0mself\u001b[0m\u001b[1;33m.\u001b[0m\u001b[0m_set_item\u001b[0m\u001b[1;33m(\u001b[0m\u001b[0mkey\u001b[0m\u001b[1;33m,\u001b[0m \u001b[0mvalue\u001b[0m\u001b[1;33m)\u001b[0m\u001b[1;33m\u001b[0m\u001b[1;33m\u001b[0m\u001b[0m\n\u001b[0m\u001b[0;32m   3656\u001b[0m \u001b[1;33m\u001b[0m\u001b[0m\n\u001b[0;32m   3657\u001b[0m     \u001b[1;32mdef\u001b[0m \u001b[0m_setitem_slice\u001b[0m\u001b[1;33m(\u001b[0m\u001b[0mself\u001b[0m\u001b[1;33m,\u001b[0m \u001b[0mkey\u001b[0m\u001b[1;33m:\u001b[0m \u001b[0mslice\u001b[0m\u001b[1;33m,\u001b[0m \u001b[0mvalue\u001b[0m\u001b[1;33m)\u001b[0m\u001b[1;33m:\u001b[0m\u001b[1;33m\u001b[0m\u001b[1;33m\u001b[0m\u001b[0m\n",
      "\u001b[1;32mc:\\Users\\JZM001\\Anaconda3\\lib\\site-packages\\pandas\\core\\frame.py\u001b[0m in \u001b[0;36m_set_item\u001b[1;34m(self, key, value)\u001b[0m\n\u001b[0;32m   3830\u001b[0m         \u001b[0mensure\u001b[0m \u001b[0mhomogeneity\u001b[0m\u001b[1;33m.\u001b[0m\u001b[1;33m\u001b[0m\u001b[1;33m\u001b[0m\u001b[0m\n\u001b[0;32m   3831\u001b[0m         \"\"\"\n\u001b[1;32m-> 3832\u001b[1;33m         \u001b[0mvalue\u001b[0m \u001b[1;33m=\u001b[0m \u001b[0mself\u001b[0m\u001b[1;33m.\u001b[0m\u001b[0m_sanitize_column\u001b[0m\u001b[1;33m(\u001b[0m\u001b[0mvalue\u001b[0m\u001b[1;33m)\u001b[0m\u001b[1;33m\u001b[0m\u001b[1;33m\u001b[0m\u001b[0m\n\u001b[0m\u001b[0;32m   3833\u001b[0m \u001b[1;33m\u001b[0m\u001b[0m\n\u001b[0;32m   3834\u001b[0m         if (\n",
      "\u001b[1;32mc:\\Users\\JZM001\\Anaconda3\\lib\\site-packages\\pandas\\core\\frame.py\u001b[0m in \u001b[0;36m_sanitize_column\u001b[1;34m(self, value)\u001b[0m\n\u001b[0;32m   4536\u001b[0m \u001b[1;33m\u001b[0m\u001b[0m\n\u001b[0;32m   4537\u001b[0m         \u001b[1;32mif\u001b[0m \u001b[0mis_list_like\u001b[0m\u001b[1;33m(\u001b[0m\u001b[0mvalue\u001b[0m\u001b[1;33m)\u001b[0m\u001b[1;33m:\u001b[0m\u001b[1;33m\u001b[0m\u001b[1;33m\u001b[0m\u001b[0m\n\u001b[1;32m-> 4538\u001b[1;33m             \u001b[0mcom\u001b[0m\u001b[1;33m.\u001b[0m\u001b[0mrequire_length_match\u001b[0m\u001b[1;33m(\u001b[0m\u001b[0mvalue\u001b[0m\u001b[1;33m,\u001b[0m \u001b[0mself\u001b[0m\u001b[1;33m.\u001b[0m\u001b[0mindex\u001b[0m\u001b[1;33m)\u001b[0m\u001b[1;33m\u001b[0m\u001b[1;33m\u001b[0m\u001b[0m\n\u001b[0m\u001b[0;32m   4539\u001b[0m         \u001b[1;32mreturn\u001b[0m \u001b[0msanitize_array\u001b[0m\u001b[1;33m(\u001b[0m\u001b[0mvalue\u001b[0m\u001b[1;33m,\u001b[0m \u001b[0mself\u001b[0m\u001b[1;33m.\u001b[0m\u001b[0mindex\u001b[0m\u001b[1;33m,\u001b[0m \u001b[0mcopy\u001b[0m\u001b[1;33m=\u001b[0m\u001b[1;32mTrue\u001b[0m\u001b[1;33m,\u001b[0m \u001b[0mallow_2d\u001b[0m\u001b[1;33m=\u001b[0m\u001b[1;32mTrue\u001b[0m\u001b[1;33m)\u001b[0m\u001b[1;33m\u001b[0m\u001b[1;33m\u001b[0m\u001b[0m\n\u001b[0;32m   4540\u001b[0m \u001b[1;33m\u001b[0m\u001b[0m\n",
      "\u001b[1;32mc:\\Users\\JZM001\\Anaconda3\\lib\\site-packages\\pandas\\core\\common.py\u001b[0m in \u001b[0;36mrequire_length_match\u001b[1;34m(data, index)\u001b[0m\n\u001b[0;32m    555\u001b[0m     \"\"\"\n\u001b[0;32m    556\u001b[0m     \u001b[1;32mif\u001b[0m \u001b[0mlen\u001b[0m\u001b[1;33m(\u001b[0m\u001b[0mdata\u001b[0m\u001b[1;33m)\u001b[0m \u001b[1;33m!=\u001b[0m \u001b[0mlen\u001b[0m\u001b[1;33m(\u001b[0m\u001b[0mindex\u001b[0m\u001b[1;33m)\u001b[0m\u001b[1;33m:\u001b[0m\u001b[1;33m\u001b[0m\u001b[1;33m\u001b[0m\u001b[0m\n\u001b[1;32m--> 557\u001b[1;33m         raise ValueError(\n\u001b[0m\u001b[0;32m    558\u001b[0m             \u001b[1;34m\"Length of values \"\u001b[0m\u001b[1;33m\u001b[0m\u001b[1;33m\u001b[0m\u001b[0m\n\u001b[0;32m    559\u001b[0m             \u001b[1;34mf\"({len(data)}) \"\u001b[0m\u001b[1;33m\u001b[0m\u001b[1;33m\u001b[0m\u001b[0m\n",
      "\u001b[1;31mValueError\u001b[0m: Length of values (102637) does not match length of index (51319)"
     ]
    }
   ],
   "source": [
    "folder = r'G:\\AUTOCAD\\WOS\\S19S PRT update\\1-Trak\\Beckhoff\\Testing\\2023-05-19 GFX Strain Gauge Slide testing\\SG_Slide_Test_accelerometer_vs_twinCAT\\TwinCAT_Data'\n",
    "\n",
    "TwinCAT_recordings = []\n",
    "slide_start_positions = []\n",
    "\n",
    "for filename in os.listdir(folder):\n",
    "\n",
    "    if filename.endswith('.csv'):\n",
    "\n",
    "        filepath = os.path.join(folder, filename)\n",
    "        TwinCAT_Data = TwinCAT_Recording(filepath)\n",
    "        TwinCAT_recordings.append(TwinCAT_Data)\n",
    "\n",
    "for i,test in enumerate(TwinCAT_recordings):\n",
    "    print('Test {i}:    '.format(i=i),test)\n",
    "    slide_start_positions.append(float(test.slide_position_one))\n",
    "\n",
    "TwinCAT_recordings[0].data.head(2)\n"
   ]
  },
  {
   "attachments": {},
   "cell_type": "markdown",
   "metadata": {},
   "source": [
    "Creating an Object to Store all the Accelerometer Data from a specified folder"
   ]
  },
  {
   "cell_type": "code",
   "execution_count": null,
   "metadata": {},
   "outputs": [],
   "source": [
    "folder = r'G:\\AUTOCAD\\WOS\\S19S PRT update\\1-Trak\\Beckhoff\\Testing\\2023-05-19 GFX Strain Gauge Slide testing\\SG_Slide_Test_accelerometer_vs_twinCAT\\Accelerometer_Data'\n",
    "\n",
    "Accelerometer_recordings = []\n",
    "slide_start_positions = []\n",
    "\n",
    "for filename in os.listdir(folder):\n",
    "\n",
    "    if filename.endswith('.csv'):\n",
    "\n",
    "        filepath = os.path.join(folder, filename)\n",
    "        Accelerometer_Data = Accelerometer_Recording(filepath)\n",
    "        Accelerometer_recordings.append(Accelerometer_Data)\n",
    "\n",
    "for i,test in enumerate(Accelerometer_recordings):\n",
    "    print('Test {i}:    '.format(i=i),test)\n",
    "    slide_start_positions.append(float(test.slide_position_one))\n",
    "\n",
    "Accelerometer_recordings[0].data.head(0)"
   ]
  },
  {
   "attachments": {},
   "cell_type": "markdown",
   "metadata": {},
   "source": [
    "Plot Showing The Set Current For the different Velocities (TWINCAT DATA)"
   ]
  },
  {
   "cell_type": "code",
   "execution_count": null,
   "metadata": {},
   "outputs": [],
   "source": [
    "sns.set_style(\"darkgrid\")\n",
    "scaled = 2\n",
    "plt.figure(figsize=(18*scaled,7*scaled))\n",
    "TwinCAT_data_type = \"Acceleration m/s^2\"\n",
    "Accelerometer_data_type = 'Acceleration X(g)'\n",
    "time_start = 0\n",
    "time_end = 3500\n",
    "\n",
    "for i in range(len(TwinCAT_recordings)):\n",
    "                \n",
    "    plt.subplot(len(TwinCAT_recordings),1,i+1)\n",
    "    sns.lineplot(data = TwinCAT_recordings[i].data,x=\"Time (ms)\",y=TwinCAT_data_type,label=TwinCAT_recordings[i].slide_range)\n",
    "    plt.xlim(time_start,time_end)\n",
    "    plt.legend(loc='upper right')\n",
    "    plt.title('{data_type} at {velocity}mm/s'.format(data_type= TwinCAT_data_type,velocity = TwinCAT_recordings[i].velocity))"
   ]
  },
  {
   "attachments": {},
   "cell_type": "markdown",
   "metadata": {},
   "source": [
    "Plot Showing The Linear Acceleration For the different Velocities (ACCELEROMETER DATA)"
   ]
  },
  {
   "cell_type": "code",
   "execution_count": null,
   "metadata": {},
   "outputs": [],
   "source": [
    "sns.set_style(\"darkgrid\")\n",
    "scaled = 2\n",
    "plt.figure(figsize=(18*scaled,7*scaled))\n",
    "Accelerometer_data_type = 'Acceleration X(g)'\n",
    "time_start = 0\n",
    "time_end = 10000\n",
    "\n",
    "for i in range(len(Accelerometer_recordings)):\n",
    "\n",
    "    plt.subplot(len(Accelerometer_recordings),1,i+1)\n",
    "    sns.scatterplot(data = Accelerometer_recordings[i].data,x=\"Elapsed Time (ms)\",y=Accelerometer_data_type,label=Accelerometer_recordings[i].slide_range + ' X(g)')\n",
    "    sns.lineplot(data = Accelerometer_recordings[i].data,x=\"Elapsed Time (ms)\",y=Accelerometer_data_type)\n",
    "\n",
    "    sns.scatterplot(data = Accelerometer_recordings[i].data,x=\"Elapsed Time (ms)\",y=Accelerometer_data_type[:-4] + 'Y(g)',label=Accelerometer_recordings[i].slide_range + ' Y(g)')\n",
    "    sns.lineplot(data = Accelerometer_recordings[i].data,x=\"Elapsed Time (ms)\",y=Accelerometer_data_type[:-4] + 'Y(g)')\n",
    "    \n",
    "    sns.scatterplot(data = Accelerometer_recordings[i].data,x=\"Elapsed Time (ms)\",y=Accelerometer_data_type[:-4] + 'Z(g)',label=Accelerometer_recordings[i].slide_range + ' Z(g)')\n",
    "    sns.lineplot(data = Accelerometer_recordings[i].data,x=\"Elapsed Time (ms)\",y=Accelerometer_data_type[:-4] + 'Z(g)')\n",
    "\n",
    "    plt.xlim(time_start,time_end)\n",
    "    plt.legend(loc='upper right')\n",
    "    plt.title('{data_type} at {velocity}mm/s'.format(data_type= Accelerometer_data_type,velocity = Accelerometer_recordings[i].velocity))"
   ]
  },
  {
   "cell_type": "code",
   "execution_count": null,
   "metadata": {},
   "outputs": [],
   "source": [
    "sns.set_style(\"darkgrid\")\n",
    "scaled = 2\n",
    "plt.figure(figsize=(18*scaled,7*scaled))\n",
    "Accelerometer_data_type = 'Acceleration X(g)'\n",
    "time_start = 0\n",
    "time_end = 3500\n",
    "\n",
    "\n",
    "for i in range(len(TwinCAT_recordings)):\n",
    "                \n",
    "    plt.subplot(len(TwinCAT_recordings),1,i+1)\n",
    "    sns.lineplot(data = TwinCAT_recordings[i].data,x=\"Time (ms)\",y=TwinCAT_data_type,label=TwinCAT_recordings[i].slide_range)\n",
    "    plt.xlim(time_start,time_end)\n",
    "    plt.legend(loc='upper right')\n",
    "    plt.title('{data_type} at {velocity}mm/s'.format(data_type= TwinCAT_data_type,velocity = TwinCAT_recordings[i].velocity))\n",
    "\n",
    "for i in range(len(Accelerometer_recordings)):\n",
    "\n",
    "    plt.subplot(len(Accelerometer_recordings),1,i+1)\n",
    "    sns.scatterplot(data = Accelerometer_recordings[i].data,x=\"Elapsed Time (ms)\",y=Accelerometer_data_type,label=Accelerometer_recordings[i].slide_range + ' X(g)')\n",
    "    sns.lineplot(data = Accelerometer_recordings[i].data,x=\"Elapsed Time (ms)\",y=Accelerometer_data_type)\n",
    "\n",
    "    plt.xlim(time_start,time_end)\n",
    "    plt.legend(loc='upper right')\n",
    "    plt.title('{data_type} at {velocity}mm/s'.format(data_type= Accelerometer_data_type,velocity = Accelerometer_recordings[i].velocity))"
   ]
  }
 ],
 "metadata": {
  "kernelspec": {
   "display_name": "Python 3",
   "language": "python",
   "name": "python3"
  },
  "language_info": {
   "codemirror_mode": {
    "name": "ipython",
    "version": 3
   },
   "file_extension": ".py",
   "mimetype": "text/x-python",
   "name": "python",
   "nbconvert_exporter": "python",
   "pygments_lexer": "ipython3",
   "version": "3.9.13"
  },
  "orig_nbformat": 4
 },
 "nbformat": 4,
 "nbformat_minor": 2
}
